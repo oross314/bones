{
 "cells": [
  {
   "cell_type": "code",
   "execution_count": 1,
   "metadata": {},
   "outputs": [],
   "source": [
    "import numpy as np\n",
    "import matplotlib.pyplot as plt\n",
    "import torchbones\n",
    "from torchbones import Net\n",
    "import torch\n",
    "import torch.nn as nn\n",
    "from torch import optim\n",
    "import pandas as pd\n",
    "import pickle"
   ]
  },
  {
   "attachments": {},
   "cell_type": "markdown",
   "metadata": {},
   "source": [
    "## Network Building\n",
    "This notebook demonstrates how to create simple networks using torchbones without automatic training implementation. We will use MNIST wine data to demonstrate."
   ]
  },
  {
   "cell_type": "code",
   "execution_count": 2,
   "metadata": {},
   "outputs": [
    {
     "data": {
      "text/plain": [
       "(1599, 11)"
      ]
     },
     "execution_count": 2,
     "metadata": {},
     "output_type": "execute_result"
    }
   ],
   "source": [
    "wines = pd.read_csv('winequality-red.csv', delimiter = ';').to_numpy()\n",
    "truth = wines[:, -1] #ratings of wines\n",
    "data = wines[:, :-1] #features of wines\n",
    "data.shape"
   ]
  },
  {
   "attachments": {},
   "cell_type": "markdown",
   "metadata": {},
   "source": [
    "### Initializing the Network"
   ]
  },
  {
   "cell_type": "code",
   "execution_count": 29,
   "metadata": {},
   "outputs": [],
   "source": [
    "sizes = data.shape[1:] #size of input layer\n",
    "lins = [100, 100, 10, 1] # size of each linear layer, the last value should be the desired number of outputs\n",
    "activation = nn.Tanh # activation function\n",
    "\n",
    "# create a net object\n",
    "net = Net(sizes, lins, activation).double()\n",
    "\n"
   ]
  },
  {
   "attachments": {},
   "cell_type": "markdown",
   "metadata": {},
   "source": [
    "## You can now train in whatever way is most appropriate for your application"
   ]
  },
  {
   "cell_type": "code",
   "execution_count": 32,
   "metadata": {},
   "outputs": [
    {
     "name": "stdout",
     "output_type": "stream",
     "text": [
      "Epoch 0: loss = 16.000019366805347\n",
      "Epoch 1: loss = 25.00002401517848\n",
      "Epoch 2: loss = 25.000023745372406\n",
      "Epoch 3: loss = 36.000028490122375\n",
      "Epoch 4: loss = 36.0000284693846\n",
      "Epoch 5: loss = 9.000014208173525\n",
      "Epoch 6: loss = 16.000019033420333\n",
      "Epoch 7: loss = 36.00002885387495\n",
      "Epoch 8: loss = 9.000014386780462\n",
      "Epoch 9: loss = 25.000024048260354\n"
     ]
    }
   ],
   "source": [
    "optimizer =  optim.SGD(net.parameters(), lr=0.001) # specify optiization algorythm and learning rate\n",
    "batches = 1000 # number of batches to train on\n",
    "batch_size = int(len(truth)/batches) # size of each batch\n",
    "epochs = 10 # number of epochs to train for\n",
    "\n",
    "for k in range(epochs):\n",
    "    shuffle = torch.randperm(len(truth)) #shuffle training set\n",
    "    for i in range(batches):\n",
    "        where = shuffle[i * batch_size:(i + 1) * batch_size] #take batch of training set\n",
    "        output = net(torch.tensor(data[where]).double())\n",
    "        truetrain = truth[where]\n",
    "        loss = torch.mean(nn.MSELoss()(output.squeeze(), torch.tensor(truetrain).double()))\n",
    "        optimizer.zero_grad()\n",
    "        loss.backward(retain_graph = True)\n",
    "        optimizer.step()\n",
    "    print(f'Epoch {k}: loss = {loss}')"
   ]
  },
  {
   "cell_type": "code",
   "execution_count": null,
   "metadata": {},
   "outputs": [],
   "source": []
  }
 ],
 "metadata": {
  "kernelspec": {
   "display_name": "Python 3",
   "language": "python",
   "name": "python3"
  },
  "language_info": {
   "codemirror_mode": {
    "name": "ipython",
    "version": 3
   },
   "file_extension": ".py",
   "mimetype": "text/x-python",
   "name": "python",
   "nbconvert_exporter": "python",
   "pygments_lexer": "ipython3",
   "version": "3.10.6"
  },
  "orig_nbformat": 4
 },
 "nbformat": 4,
 "nbformat_minor": 2
}
